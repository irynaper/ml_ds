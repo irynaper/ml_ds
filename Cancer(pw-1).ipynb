{
 "cells": [
  {
   "cell_type": "code",
   "execution_count": null,
   "id": "0c17bf7f-6183-4a9f-9753-9f0364cbf419",
   "metadata": {},
   "outputs": [
    {
     "data": {
      "image/png": "[encoded data removed]",
      "text/plain": [
       "<Figure size 1700x600 with 1 Axes>"
      ]
     },
     "metadata": {},
     "output_type": "display_data"
    },
    {
     "data": {
      "application/vnd.jupyter.widget-view+json": {
       "model_id": "7bc7953eb8764f70b8800c3df355f26b",
       "version_major": 2,
       "version_minor": 0
      },
      "text/plain": [
       "interactive(children=(ToggleButtons(description='Plot Type:', icons=('',), options=(('Pipeline Plot', 'pipelin…"
      ]
     },
     "metadata": {},
     "output_type": "display_data"
    },
    {
     "name": "stdout",
     "output_type": "stream",
     "text": [
      "                                    Model  Accuracy     AUC  Recall   Prec.  \\\n",
      "et                 Extra Trees Classifier    0.9687  0.9967  0.9643  0.9495   \n",
      "svm                   SVM - Linear Kernel    0.9686  0.9964  0.9522  0.9613   \n",
      "knn                K Neighbors Classifier    0.9644  0.9869  0.9460  0.9543   \n",
      "lr                    Logistic Regression    0.9623  0.9964  0.9342  0.9597   \n",
      "ridge                    Ridge Classifier    0.9623  0.9962  0.9221  0.9721   \n",
      "lda          Linear Discriminant Analysis    0.9623  0.9962  0.9221  0.9721   \n",
      "nb                            Naive Bayes    0.9603  0.9834  0.9761  0.9209   \n",
      "rf               Random Forest Classifier    0.9581  0.9953  0.9338  0.9498   \n",
      "ada                  Ada Boost Classifier    0.9581  0.9862  0.9335  0.9485   \n",
      "lightgbm  Light Gradient Boosting Machine    0.9581  0.9946  0.9393  0.9435   \n",
      "gbc          Gradient Boosting Classifier    0.9498  0.9931  0.9276  0.9324   \n",
      "qda       Quadratic Discriminant Analysis    0.9457  0.9908  0.9761  0.8854   \n",
      "dt               Decision Tree Classifier    0.9373  0.9294  0.9037  0.9247   \n",
      "dummy                    Dummy Classifier    0.6507  0.5000  0.0000  0.0000   \n",
      "\n",
      "              F1   Kappa     MCC  TT (Sec)  \n",
      "et        0.9557  0.9315  0.9329     0.045  \n",
      "svm       0.9533  0.9299  0.9333     0.008  \n",
      "knn       0.9485  0.9214  0.9232     0.320  \n",
      "lr        0.9445  0.9161  0.9187     0.658  \n",
      "ridge     0.9443  0.9158  0.9188     0.012  \n",
      "lda       0.9443  0.9158  0.9188     0.014  \n",
      "nb        0.9463  0.9150  0.9176     0.012  \n",
      "rf        0.9394  0.9074  0.9103     0.057  \n",
      "ada       0.9394  0.9074  0.9092     0.025  \n",
      "lightgbm  0.9389  0.9071  0.9099     0.080  \n",
      "gbc       0.9279  0.8894  0.8918     0.025  \n",
      "qda       0.9274  0.8843  0.8883     0.014  \n",
      "dt        0.9099  0.8620  0.8669     0.009  \n",
      "dummy     0.0000  0.0000  0.0000     0.012  \n",
      "Transformation Pipeline and Model Successfully Saved\n"
     ]
    }
   ],
   "source": [
    "import pandas as pd\n",
    "import numpy as np\n",
    "import matplotlib.pyplot as plt\n",
    "\n",
    "from pycaret.classification import *\n",
    "from pycaret.datasets import get_data\n",
    "\n",
    "df = get_data('cancer')\n",
    "\n",
    "print(df.head())\n",
    "print(df.info())\n",
    "print(df.isnull().sum())\n",
    "print(df.describe())\n",
    "\n",
    "# Доброякісні та злоякісні пухлини\n",
    "plt.figure(figsize=(6, 4))\n",
    "df['Class'].value_counts().plot(kind='bar', color=['blue', 'orange'])\n",
    "plt.xlabel('Class')\n",
    "plt.ylabel('Кількість')\n",
    "plt.title('Розподіл цільової змінної (Class)')\n",
    "plt.xticks([0, 1], ['Доброякісна', 'Злоякісна'], rotation=0)\n",
    "plt.show()\n",
    "\n",
    "# Кореляційна матриця\n",
    "plt.figure(figsize=(10, 6))\n",
    "correlation_matrix = df.corr()\n",
    "plt.imshow(correlation_matrix, cmap='coolwarm', interpolation='nearest')\n",
    "plt.colorbar()\n",
    "plt.title('Кореляційна матриця')\n",
    "plt.xticks(range(len(df.columns)), df.columns, rotation=90)\n",
    "plt.yticks(range(len(df.columns)), df.columns)\n",
    "plt.show()\n",
    "\n",
    "clf = setup(df, target='Class', session_id=123)\n",
    "best_model = compare_models()\n",
    "evaluate_model(best_model)\n",
    "metrics = pull()\n",
    "print(metrics)\n",
    "\n",
    "save_model(best_model, 'cancer_model')\n",
    "df.to_csv('Cancer.csv', index=False)\n"
   ]
  },
  {
   "cell_type": "code",
   "execution_count": null,
   "id": "0ca7c8b7-db1b-4ef2-a6c5-8d99cba711c8",
   "metadata": {},
   "outputs": [],
   "source": []
  }
 ],
 "metadata": {
  "kernelspec": {
   "display_name": "Python [conda env:pycaret_39]",
   "language": "python",
   "name": "conda-env-pycaret_39-py"
  },
  "language_info": {
   "codemirror_mode": {
    "name": "ipython",
    "version": 3
   },
   "file_extension": ".py",
   "mimetype": "text/x-python",
   "name": "python",
   "nbconvert_exporter": "python",
   "pygments_lexer": "ipython3",
   "version": "3.9.21"
  }
 },
 "nbformat": 4,
 "nbformat_minor": 5
}
