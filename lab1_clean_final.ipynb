{
 "cells": [
  {
   "cell_type": "markdown",
   "id": "f1359d72",
   "metadata": {},
   "source": [
    "# Лабораторна робота №1\n",
    "\n",
    "**Тема:** Побудова класифікаційної моделі для прогнозування шансу гравця залишитись в НБА.\n",
    "\n",
    "Використано датасет `nba`, методи бібліотеки PyCaret."
   ]
  },
  {
   "cell_type": "code",
   "execution_count": null,
   "id": "412c4fb8",
   "metadata": {},
   "outputs": [],
   "source": [
    "from pycaret.datasets import get_data\n",
    "nba = get_data('nba')\n",
    "nba.dropna(inplace=True)\n",
    "nba.head()"
   ]
  },
  {
   "cell_type": "code",
   "execution_count": null,
   "id": "6b5c82b2",
   "metadata": {},
   "outputs": [],
   "source": [
    "from pycaret.classification import *\n",
    "setup(data=nba, target='TARGET_5Yrs', session_id=42, silent=True, verbose=False)"
   ]
  },
  {
   "cell_type": "code",
   "execution_count": null,
   "id": "c846c67e",
   "metadata": {},
   "outputs": [],
   "source": [
    "best_model = compare_models()"
   ]
  },
  {
   "cell_type": "code",
   "execution_count": null,
   "id": "e3e35ae1",
   "metadata": {},
   "outputs": [],
   "source": [
    "evaluate_model(best_model)"
   ]
  },
  {
   "cell_type": "code",
   "execution_count": null,
   "id": "8b54ba62",
   "metadata": {},
   "outputs": [],
   "source": [
    "save_model(best_model, 'nba_classifier_model')"
   ]
  }
 ],
 "metadata": {},
 "nbformat": 4,
 "nbformat_minor": 5
}
