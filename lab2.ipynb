{
 "cells": [
  {
   "cell_type": "markdown",
   "id": "4e802486",
   "metadata": {},
   "source": [
    "# Лабораторна робота №2: Інтерфейс на Streamlit для передбачення позиції гравця NBA\n",
    "\n",
    "\"\"\"\n",
    "У цьому додатку ми завантажуємо збережену модель з Lab1 та надаємо користувачеві можливість\n",
    "ввести статистику гравця для передбачення позиції.\n",
    "\"\"\""
   ]
  },
  {
   "cell_type": "code",
   "execution_count": null,
   "id": "36c2ca05",
   "metadata": {},
   "outputs": [],
   "source": [
    "import streamlit as st\n",
    "from pycaret.classification import load_model, predict_model\n",
    "import pandas as pd"
   ]
  },
  {
   "cell_type": "code",
   "execution_count": null,
   "id": "9ed7a2ae",
   "metadata": {},
   "outputs": [],
   "source": [
    "model = load_model('nba_classifier_model')"
   ]
  },
  {
   "cell_type": "code",
   "execution_count": null,
   "id": "22c3b977",
   "metadata": {},
   "outputs": [],
   "source": [
    "st.title(\"Прогноз позиції гравця NBA\")\n",
    "st.write(\"Введіть статистику гравця для передбачення його позиції\")"
   ]
  },
  {
   "cell_type": "code",
   "execution_count": null,
   "id": "3e78b54b",
   "metadata": {},
   "outputs": [],
   "source": [
    "PTS = st.number_input(\"Очки за гру (PTS)\", 0, 100, 20)\n",
    "AST = st.number_input(\"Передачі за гру (AST)\", 0, 20, 5)\n",
    "TRB = st.number_input(\"Підбирання за гру (TRB)\", 0, 20, 7)\n",
    "STL = st.number_input(\"Перехоплення (STL)\", 0, 10, 2)"
   ]
  },
  {
   "cell_type": "code",
   "execution_count": null,
   "id": "f6e13962",
   "metadata": {},
   "outputs": [],
   "source": [
    "input_df = pd.DataFrame({\n",
    "    'PTS': [PTS],\n",
    "    'AST': [AST],\n",
    "    'TRB': [TRB],\n",
    "    'STL': [STL],\n",
    "})"
   ]
  },
  {
   "cell_type": "code",
   "execution_count": null,
   "id": "d9e0f68e",
   "metadata": {},
   "outputs": [],
   "source": [
    "if st.button(\"Прогнозувати позицію\"):\n",
    "    prediction = predict_model(model, data=input_df)\n",
    "    st.success(f\"Ймовірна позиція гравця: {prediction['Label'][0]}\")"
   ]
  },
  {
   "cell_type": "code",
   "execution_count": null,
   "id": "db4589c8",
   "metadata": {},
   "outputs": [],
   "source": [
    "st.subheader(\"Опис ознак\")\n",
    "st.write(\"\"\"\n",
    "- **PTS** — кількість очок, які гравець набирає в середньому за гру\n",
    "- **AST** — кількість результативних передач за гру\n",
    "- **TRB** — підбирання за гру\n",
    "- **STL** — перехоплення за гру\n",
    "\"\"\")"
   ]
  },
  {
   "cell_type": "code",
   "execution_count": null,
   "id": "3f549aa8",
   "metadata": {},
   "outputs": [],
   "source": [
    "st.subheader(\"Гістограма очок (PTS)\")\n",
    "import matplotlib.pyplot as plt\n",
    "fig, ax = plt.subplots()\n",
    "nba = pd.read_csv(\"nba.csv\")\n",
    "nba.dropna(inplace=True)\n",
    "ax.hist(nba['PTS'], bins=20)\n",
    "ax.set_title(\"Розподіл очок серед гравців\")\n",
    "ax.set_xlabel(\"Очки\")\n",
    "ax.set_ylabel(\"Кількість гравців\")\n",
    "st.pyplot(fig)"
   ]
  },
  {
   "cell_type": "code",
   "execution_count": null,
   "id": "38b855d3",
   "metadata": {},
   "outputs": [],
   "source": [
    "st.subheader(\"Метрики моделі\")\n",
    "# Виводимо метрики, які були використані при побудові моделі\n",
    "from pycaret.classification import pull\n",
    "metrics = pull()\n",
    "st.dataframe(metrics)"
   ]
  }
 ],
 "metadata": {},
 "nbformat": 4,
 "nbformat_minor": 5
}
