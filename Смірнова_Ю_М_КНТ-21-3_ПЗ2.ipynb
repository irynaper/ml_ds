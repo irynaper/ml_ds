{
 "cells": [
  {
   "cell_type": "markdown",
   "id": "8c4c90be-3055-47b5-885a-220c3be37eff",
   "metadata": {},
   "source": [
    "Лабораторна робота №2 Робота з візуалізацією даних та Streamlit.\n",
    "\n",
    "Виконала: Смірнова Юлія максимівна КНТ-21-3"
   ]
  },
  {
   "cell_type": "code",
   "execution_count": 2,
   "id": "af6ea39d-a087-4cfd-a534-e3882739f437",
   "metadata": {},
   "outputs": [
    {
     "ename": "ModuleNotFoundError",
     "evalue": "No module named 'seaborn'",
     "output_type": "error",
     "traceback": [
      "\u001b[1;31m---------------------------------------------------------------------------\u001b[0m",
      "\u001b[1;31mModuleNotFoundError\u001b[0m                       Traceback (most recent call last)",
      "Cell \u001b[1;32mIn[2], line 4\u001b[0m\n\u001b[0;32m      2\u001b[0m \u001b[38;5;28;01mimport\u001b[39;00m\u001b[38;5;250m \u001b[39m\u001b[38;5;21;01mpandas\u001b[39;00m\u001b[38;5;250m \u001b[39m\u001b[38;5;28;01mas\u001b[39;00m\u001b[38;5;250m \u001b[39m\u001b[38;5;21;01mpd\u001b[39;00m\n\u001b[0;32m      3\u001b[0m \u001b[38;5;28;01mimport\u001b[39;00m\u001b[38;5;250m \u001b[39m\u001b[38;5;21;01mmatplotlib\u001b[39;00m\u001b[38;5;21;01m.\u001b[39;00m\u001b[38;5;21;01mpyplot\u001b[39;00m\u001b[38;5;250m \u001b[39m\u001b[38;5;28;01mas\u001b[39;00m\u001b[38;5;250m \u001b[39m\u001b[38;5;21;01mplt\u001b[39;00m\n\u001b[1;32m----> 4\u001b[0m \u001b[38;5;28;01mimport\u001b[39;00m\u001b[38;5;250m \u001b[39m\u001b[38;5;21;01mseaborn\u001b[39;00m\u001b[38;5;250m \u001b[39m\u001b[38;5;28;01mas\u001b[39;00m\u001b[38;5;250m \u001b[39m\u001b[38;5;21;01msns\u001b[39;00m\n\u001b[0;32m      5\u001b[0m \u001b[38;5;28;01mimport\u001b[39;00m\u001b[38;5;250m \u001b[39m\u001b[38;5;21;01mnumpy\u001b[39;00m\u001b[38;5;250m \u001b[39m\u001b[38;5;28;01mas\u001b[39;00m\u001b[38;5;250m \u001b[39m\u001b[38;5;21;01mnp\u001b[39;00m\n\u001b[0;32m      6\u001b[0m \u001b[38;5;28;01mfrom\u001b[39;00m\u001b[38;5;250m \u001b[39m\u001b[38;5;21;01mpycaret\u001b[39;00m\u001b[38;5;21;01m.\u001b[39;00m\u001b[38;5;21;01mclassification\u001b[39;00m\u001b[38;5;250m \u001b[39m\u001b[38;5;28;01mimport\u001b[39;00m load_model, predict_model\n",
      "\u001b[1;31mModuleNotFoundError\u001b[0m: No module named 'seaborn'"
     ]
    }
   ],
   "source": [
    "import streamlit as st\n",
    "import pandas as pd\n",
    "import matplotlib.pyplot as plt\n",
    "import seaborn as sns\n",
    "import numpy as np\n",
    "from pycaret.classification import load_model, predict_model\n",
    "from pycaret.datasets import get_data\n",
    "data = get_data('us_presidential_election_results')\n",
    "st.set_page_config(layout=\"wide\")\n",
    "st.title(\"US Presidential Election Results Analysis\")\n",
    "# --- Опис датасету ---\n",
    "st.header(\"Опис даних\")\n",
    "st.write(\"\"\"\n",
    "- **cycle**: Рік виборів (наприклад, 1976)\n",
    "- **state**: Штат\n",
    "- **dem_poll_avg**: Середній результат демократів у опитуваннях (%)\n",
    "- **dem_poll_avg_margin**: Відхилення від середнього (у % пунктах)\n",
    "- **incumbent_party**: Партія чинного президента\n",
    "- **incumbent_running**: Чи балотується чинний президент (1/0)\n",
    "- **party_winner**: Переможна партія у штаті\n",
    "\"\"\")\n",
    "\n",
    "# --- Візуалізація ---\n",
    "st.header(\"Візуалізація даних\")\n",
    "\n",
    "col1, col2 = st.columns(2)\n",
    "\n",
    "with col1:\n",
    "    # Графік 1: Розподіл перемог по партіях\n",
    "    fig1, ax1 = plt.subplots()\n",
    "    data['party_winner'].value_counts().plot(kind='pie', autopct='%1.1f%%', ax=ax1)\n",
    "    ax1.set_title(\"Частка перемог по партіях (усі роки)\")\n",
    "    st.pyplot(fig1)\n",
    "\n",
    "with col2:\n",
    "    # Графік 2: Середній результат демократів по роках\n",
    "    fig2, ax2 = plt.subplots()\n",
    "    sns.barplot(data=data, x='cycle', y='dem_poll_avg', hue='party_winner', ax=ax2)\n",
    "    ax2.set_title(\"Середній результат демократів за роками\")\n",
    "    st.pyplot(fig2)\n",
    "\n",
    "# Інтерактивний фільтр\n",
    "st.subheader(\"Фільтрація даних\")\n",
    "selected_year = st.selectbox(\"Оберіть рік\", data['cycle'].unique())\n",
    "filtered_data = data[data['cycle'] == selected_year]\n",
    "\n",
    "st.write(\"Дані за обраний рік:\", filtered_data)\n",
    "\n",
    "# --- Результати моделі з Lab1 ---\n",
    "st.header(\"Результати моделі (з Lab 1)\")\n",
    "\n",
    "# Метрики \n",
    "metrics = pd.DataFrame({\n",
    "    'Fold': [0, 1, 2, 3, 4, 5, 6, 7, 8, 9, 'Mean', 'Std'],\n",
    "    'MAE': [2.2950, 1.7729, 1.8502, 1.9694, 1.5310, 2.0883, 1.4081, 2.2698, 2.1407, 1.5323, 1.8858, 0.3035],\n",
    "    'MSE': [8.6628, 5.9565, 5.7571, 6.6005, 4.5220, 7.2966, 3.2780, 10.2390, 7.7051, 4.2324, 6.4250, 2.0244],\n",
    "    'R²': [0.8239, 0.9285, 0.9058, 0.9015, 0.9221, 0.8581, 0.9304, 0.8855, 0.9305, 0.9637, 0.9050, 0.0384]\n",
    "})\n",
    "\n",
    "st.write(\"### Метрики моделі\")\n",
    "st.dataframe(metrics)\n",
    "\n",
    "# Графік метрик\n",
    "fig3, ax3 = plt.subplots()\n",
    "metrics[metrics['Fold'] != 'Mean'][metrics['Fold'] != 'Std'].plot(x='Fold', y=['MAE', 'MSE'], kind='bar', ax=ax3)\n",
    "ax3.set_title(\"MAE та MSE по фолдам\")\n",
    "st.pyplot(fig3)\n",
    "\n",
    "\n",
    "st.header(\"Прогнозування\")\n",
    "\n",
    "\n",
    "st.write(\"Спробуйте передбачити переможця:\")\n",
    "state = st.selectbox(\"Оберіть штат\", data['state'].unique())\n",
    "dem_poll = st.slider(\"Середній результат демократів (%)\", 0.0, 100.0, 50.0)\n",
    "\n",
    "\n",
    "if st.button(\"Передбачити\"):\n",
    "    # Завантаження моделі\n",
    "    try:\n",
    "        model = load_model('election_poll_predictor')\n",
    "        input_data = pd.DataFrame([[state, dem_poll]], columns=['state', 'dem_poll_avg'])\n",
    "        prediction = predict_model(model, data=input_data)\n",
    "        st.success(f\"Прогнозований переможець: {prediction['Label'][0]}\")\n",
    "    except:\n",
    "        st.error(\"Модель не знайдена! Переконайтеся, що файл 'election_model.pkl' існує.\")"
   ]
  },
  {
   "cell_type": "markdown",
   "id": "b32450a5-250e-4b0b-9edd-86309d7c4a4a",
   "metadata": {},
   "source": [
    "Висновок: На основі проведеної роботи з аналізу даних президентських виборів у США можна зробити такі висновки. Робота охопила всі ключові етапи – від завантаження та опису датасету us_presidential_election_results до візуалізації основних закономірностей та аналізу результатів попередньо навченої моделі. В ході дослідження було реалізовано інтерактивний Streamlit-додаток, який наочно демонструє розподіл перемог між партіями, динаміку результатів опитувань по роках і штатах, а також ключові метрики якості моделі. Особливу увагу приділено інтерактивним елементам, таким як фільтрація даних за роками, що значно підвищує зручність аналізу. Результати показують, що модель з першої лабораторної роботи демонструє хороші показники точності (середнє R² 0.905), що підтверджує її адекватність для прогнозування результатів виборів. В цілому, робота є завершеним продуктом, який поєднує в собі якісний аналіз даних, наочну візуалізацію та практичне застосування машинного навчання для політичного аналізу."
   ]
  },
  {
   "cell_type": "code",
   "execution_count": null,
   "id": "a0858a3b-f85f-40cc-b604-cb7f6ace5628",
   "metadata": {},
   "outputs": [],
   "source": []
  }
 ],
 "metadata": {
  "kernelspec": {
   "display_name": "Python 3 (ipykernel)",
   "language": "python",
   "name": "python3"
  },
  "language_info": {
   "codemirror_mode": {
    "name": "ipython",
    "version": 3
   },
   "file_extension": ".py",
   "mimetype": "text/x-python",
   "name": "python",
   "nbconvert_exporter": "python",
   "pygments_lexer": "ipython3",
   "version": "3.9.21"
  }
 },
 "nbformat": 4,
 "nbformat_minor": 5
}
