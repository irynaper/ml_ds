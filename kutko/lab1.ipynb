{
 "cells": [
  {
   "cell_type": "markdown",
   "metadata": {},
   "source": [
    "# Хід роботи"
   ]
  },
  {
   "cell_type": "code",
   "execution_count": 137,
   "metadata": {},
   "outputs": [
    {
     "data": {
      "text/html": [
       "<div>\n",
       "<style scoped>\n",
       "    .dataframe tbody tr th:only-of-type {\n",
       "        vertical-align: middle;\n",
       "    }\n",
       "\n",
       "    .dataframe tbody tr th {\n",
       "        vertical-align: top;\n",
       "    }\n",
       "\n",
       "    .dataframe thead th {\n",
       "        text-align: right;\n",
       "    }\n",
       "</style>\n",
       "<table border=\"1\" class=\"dataframe\">\n",
       "  <thead>\n",
       "    <tr style=\"text-align: right;\">\n",
       "      <th></th>\n",
       "      <th>country</th>\n",
       "      <th>en</th>\n",
       "      <th>gender</th>\n",
       "      <th>loan_amount</th>\n",
       "      <th>nonpayment</th>\n",
       "      <th>sector</th>\n",
       "      <th>status</th>\n",
       "    </tr>\n",
       "  </thead>\n",
       "  <tbody>\n",
       "    <tr>\n",
       "      <th>0</th>\n",
       "      <td>Dominican Republic</td>\n",
       "      <td>\"Banco Esperanza\" is a group of 10 women looki...</td>\n",
       "      <td>F</td>\n",
       "      <td>1225</td>\n",
       "      <td>partner</td>\n",
       "      <td>Retail</td>\n",
       "      <td>0</td>\n",
       "    </tr>\n",
       "    <tr>\n",
       "      <th>1</th>\n",
       "      <td>Dominican Republic</td>\n",
       "      <td>\"Caminemos Hacia Adelante\" or \"Walking Forward...</td>\n",
       "      <td>F</td>\n",
       "      <td>1975</td>\n",
       "      <td>lender</td>\n",
       "      <td>Clothing</td>\n",
       "      <td>0</td>\n",
       "    </tr>\n",
       "    <tr>\n",
       "      <th>2</th>\n",
       "      <td>Dominican Republic</td>\n",
       "      <td>\"Creciendo Por La Union\" is a group of 10 peop...</td>\n",
       "      <td>F</td>\n",
       "      <td>2175</td>\n",
       "      <td>partner</td>\n",
       "      <td>Clothing</td>\n",
       "      <td>0</td>\n",
       "    </tr>\n",
       "    <tr>\n",
       "      <th>3</th>\n",
       "      <td>Dominican Republic</td>\n",
       "      <td>\"Cristo Vive\" (\"Christ lives\" is a group of 10...</td>\n",
       "      <td>F</td>\n",
       "      <td>1425</td>\n",
       "      <td>partner</td>\n",
       "      <td>Clothing</td>\n",
       "      <td>0</td>\n",
       "    </tr>\n",
       "    <tr>\n",
       "      <th>4</th>\n",
       "      <td>Dominican Republic</td>\n",
       "      <td>\"Cristo Vive\" is a large group of 35 people, 2...</td>\n",
       "      <td>F</td>\n",
       "      <td>4025</td>\n",
       "      <td>partner</td>\n",
       "      <td>Food</td>\n",
       "      <td>0</td>\n",
       "    </tr>\n",
       "  </tbody>\n",
       "</table>\n",
       "</div>"
      ],
      "text/plain": [
       "              country                                                 en  \\\n",
       "0  Dominican Republic  \"Banco Esperanza\" is a group of 10 women looki...   \n",
       "1  Dominican Republic  \"Caminemos Hacia Adelante\" or \"Walking Forward...   \n",
       "2  Dominican Republic  \"Creciendo Por La Union\" is a group of 10 peop...   \n",
       "3  Dominican Republic  \"Cristo Vive\" (\"Christ lives\" is a group of 10...   \n",
       "4  Dominican Republic  \"Cristo Vive\" is a large group of 35 people, 2...   \n",
       "\n",
       "  gender  loan_amount nonpayment    sector  status  \n",
       "0      F         1225    partner    Retail       0  \n",
       "1      F         1975     lender  Clothing       0  \n",
       "2      F         2175    partner  Clothing       0  \n",
       "3      F         1425    partner  Clothing       0  \n",
       "4      F         4025    partner      Food       0  "
      ]
     },
     "metadata": {},
     "output_type": "display_data"
    }
   ],
   "source": [
    "from pycaret.datasets import get_data\n",
    "dataset = get_data('kiva')"
   ]
  },
  {
   "cell_type": "markdown",
   "metadata": {},
   "source": [
    "Після виконання цього коду PyCaret завантажить датасет \"kiva\" і відобразить перші кілька рядків у вигляді таблиці. Датасет автоматично зберігається як pandas DataFrame, який ми будемо використовувати для подальшого аналізу."
   ]
  },
  {
   "cell_type": "code",
   "execution_count": 138,
   "metadata": {},
   "outputs": [
    {
     "data": {
      "text/plain": [
       "(array(['Dominican Republic', 'Ecuador', 'Kenya'], dtype=object),\n",
       " array(['F', 'M'], dtype=object),\n",
       " array(['partner', 'lender'], dtype=object),\n",
       " array(['Retail', 'Clothing', 'Food', 'Services', 'Arts', 'Agriculture',\n",
       "        'Wholesale', 'Manufacturing', 'Transportation', 'Health',\n",
       "        'Education', 'Personal Use', 'Construction', 'Housing',\n",
       "        'Entertainment'], dtype=object),\n",
       " array([0, 1], dtype=int64))"
      ]
     },
     "execution_count": 138,
     "metadata": {},
     "output_type": "execute_result"
    }
   ],
   "source": [
    "dataset.country.unique(), dataset.gender.unique(), dataset.nonpayment.unique(), dataset.sector.unique(), dataset.status.unique()"
   ]
  },
  {
   "cell_type": "markdown",
   "metadata": {},
   "source": [
    "### Опис ознак датасету \"kiva\"\n",
    "Щоб зрозуміти фізичний сенс даних, я дослідив опис ознак датасету \"kiva\" на основі інформації з документації PyCaret та інших джерел. Ось опис усіх ознак:\n",
    "1. country: Країна позичальника 'Dominican Republic', 'Ecuador', 'Kenya'\n",
    "2. en: Особиста історія позичальника \n",
    "3. gender: Стать позичальника (M = чоловік, F = жінка)\n",
    "4. loan_amount: Сума кредиту, яка була схвалена та виплачена (числова величина)\n",
    "5. nonpayment: Тип кредитора 'partner', 'lender'\n",
    "6. sector: Сектор діяльності позичальника (наприклад, 'Retail', \n",
    "        'Clothing', 'Food', 'Services', 'Arts', 'Agriculture',\n",
    "        'Wholesale', 'Manufacturing', 'Transportation', 'Health',\n",
    "        'Education', 'Personal Use', 'Construction', 'Housing',\n",
    "        'Entertainment')\n",
    "7. status: Статус кредиту (1 = дефолт, тобто не повернуто, 0 = повернуто)\n"
   ]
  },
  {
   "cell_type": "markdown",
   "metadata": {},
   "source": [
    "Цей датасет містить 6818 записів і пов’язаний із діяльністю Kiva Microfunds — некомерційної організації, що дозволяє людям надавати кредити підприємцям із низьким доходом по всьому світу. Опис буде додано до ноутбука для зрозумілості."
   ]
  },
  {
   "cell_type": "markdown",
   "metadata": {},
   "source": [
    "## Вибір типу завдання\n",
    "\n",
    "Для визначення актуального завдання (регресія, класифікація чи кластеризація) я проаналізував структуру датасету. Оскільки в датасеті є колонка status, яка є бінарною змінною (1 = дефолт, 0 = повернуто), це вказує на задачу класифікації: передбачити, чи буде кредит повернуто, на основі інших ознак.\n",
    "\n",
    "Для простоти я спочатку ігноруватиму текстову ознаку en, оскільки її обробка потребує додаткових методів обробки природної мови (NLP), які не є обов’язковими для базового аналізу.\n",
    "\n",
    "Отже, я обираю задачу класифікації та імпортую відповідний модуль:"
   ]
  },
  {
   "cell_type": "code",
   "execution_count": 139,
   "metadata": {},
   "outputs": [],
   "source": [
    "from pycaret.classification import *"
   ]
  },
  {
   "cell_type": "markdown",
   "metadata": {},
   "source": [
    "## Аналіз даних та збереження результатів\n",
    "\n",
    "На цьому етапі я проводжу аналіз даних (EDA — Exploratory Data Analysis), налаштовую експеримент у PyCaret, порівнюю моделі, налаштовую найкращу модель, оцінюю її за метриками та зберігаю результати в ноутбуці."
   ]
  },
  {
   "cell_type": "code",
   "execution_count": 140,
   "metadata": {},
   "outputs": [
    {
     "name": "stdout",
     "output_type": "stream",
     "text": [
      "Розмір датасету: (6818, 7)\n",
      "\n",
      "Перші рядки:\n",
      "               country                                                 en  \\\n",
      "0  Dominican Republic  \"Banco Esperanza\" is a group of 10 women looki...   \n",
      "1  Dominican Republic  \"Caminemos Hacia Adelante\" or \"Walking Forward...   \n",
      "2  Dominican Republic  \"Creciendo Por La Union\" is a group of 10 peop...   \n",
      "3  Dominican Republic  \"Cristo Vive\" (\"Christ lives\" is a group of 10...   \n",
      "4  Dominican Republic  \"Cristo Vive\" is a large group of 35 people, 2...   \n",
      "\n",
      "  gender  loan_amount nonpayment    sector  status  \n",
      "0      F         1225    partner    Retail       0  \n",
      "1      F         1975     lender  Clothing       0  \n",
      "2      F         2175    partner  Clothing       0  \n",
      "3      F         1425    partner  Clothing       0  \n",
      "4      F         4025    partner      Food       0  \n",
      "\n",
      "Типи даних:\n",
      " country        object\n",
      "en             object\n",
      "gender         object\n",
      "loan_amount     int64\n",
      "nonpayment     object\n",
      "sector         object\n",
      "status          int64\n",
      "dtype: object\n",
      "\n",
      "Пропущені значення:\n",
      " country        0\n",
      "en             0\n",
      "gender         0\n",
      "loan_amount    0\n",
      "nonpayment     0\n",
      "sector         0\n",
      "status         0\n",
      "dtype: int64\n",
      "\n",
      "Розподіл статусу кредиту:\n",
      " status\n",
      "0    3452\n",
      "1    3366\n",
      "Name: count, dtype: int64\n"
     ]
    },
    {
     "data": {
      "image/png": "[encoded data removed]",
      "text/plain": [
       "<Figure size 800x550 with 1 Axes>"
      ]
     },
     "metadata": {},
     "output_type": "display_data"
    },
    {
     "data": {
      "image/png": "[encoded data removed]",
      "text/plain": [
       "<Figure size 800x550 with 1 Axes>"
      ]
     },
     "metadata": {},
     "output_type": "display_data"
    },
    {
     "name": "stdout",
     "output_type": "stream",
     "text": [
      "\n",
      "Рівень дефолту за статтю:\n",
      " gender\n",
      "F    0.482057\n",
      "M    0.531425\n",
      "Name: status, dtype: float64\n"
     ]
    }
   ],
   "source": [
    "import seaborn as sns\n",
    "import matplotlib.pyplot as plt\n",
    "\n",
    "# Перегляд розміру датасету\n",
    "print(\"Розмір датасету:\", dataset.shape)\n",
    "# Перегляд перших кількох рядків\n",
    "print(\"\\nПерші рядки:\\n\", dataset.head())\n",
    "# Типи даних\n",
    "print(\"\\nТипи даних:\\n\", dataset.dtypes)\n",
    "# Перевірка пропущених значень\n",
    "print(\"\\nПропущені значення:\\n\", dataset.isnull().sum())\n",
    "# Розподіл цільової змінної 'status'\n",
    "print(\"\\nРозподіл статусу кредиту:\\n\", dataset['status'].value_counts())\n",
    "\n",
    "# Візуалізація розподілу суми кредиту\n",
    "sns.histplot(dataset['loan_amount'])\n",
    "plt.title('Розподіл суми кредиту')\n",
    "plt.show()\n",
    "\n",
    "# Візуалізація розподілу за статтю\n",
    "sns.countplot(x='gender', data=dataset)\n",
    "plt.title('Розподіл за статтю')\n",
    "plt.show()\n",
    "\n",
    "# Середній рівень дефолту за статтю\n",
    "print(\"\\nРівень дефолту за статтю:\\n\", dataset.groupby('gender')['status'].mean())"
   ]
  },
  {
   "cell_type": "markdown",
   "metadata": {},
   "source": [
    "### Налаштування експерименту"
   ]
  },
  {
   "cell_type": "code",
   "execution_count": 141,
   "metadata": {},
   "outputs": [
    {
     "data": {
      "text/html": [
       "<style type=\"text/css\">\n",
       "#T_50f2c_row10_col1 {\n",
       "  background-color: lightgreen;\n",
       "}\n",
       "</style>\n",
       "<table id=\"T_50f2c\">\n",
       "  <thead>\n",
       "    <tr>\n",
       "      <th class=\"blank level0\" >&nbsp;</th>\n",
       "      <th id=\"T_50f2c_level0_col0\" class=\"col_heading level0 col0\" >Description</th>\n",
       "      <th id=\"T_50f2c_level0_col1\" class=\"col_heading level0 col1\" >Value</th>\n",
       "    </tr>\n",
       "  </thead>\n",
       "  <tbody>\n",
       "    <tr>\n",
       "      <th id=\"T_50f2c_level0_row0\" class=\"row_heading level0 row0\" >0</th>\n",
       "      <td id=\"T_50f2c_row0_col0\" class=\"data row0 col0\" >Session id</td>\n",
       "      <td id=\"T_50f2c_row0_col1\" class=\"data row0 col1\" >123</td>\n",
       "    </tr>\n",
       "    <tr>\n",
       "      <th id=\"T_50f2c_level0_row1\" class=\"row_heading level0 row1\" >1</th>\n",
       "      <td id=\"T_50f2c_row1_col0\" class=\"data row1 col0\" >Target</td>\n",
       "      <td id=\"T_50f2c_row1_col1\" class=\"data row1 col1\" >status</td>\n",
       "    </tr>\n",
       "    <tr>\n",
       "      <th id=\"T_50f2c_level0_row2\" class=\"row_heading level0 row2\" >2</th>\n",
       "      <td id=\"T_50f2c_row2_col0\" class=\"data row2 col0\" >Target type</td>\n",
       "      <td id=\"T_50f2c_row2_col1\" class=\"data row2 col1\" >Binary</td>\n",
       "    </tr>\n",
       "    <tr>\n",
       "      <th id=\"T_50f2c_level0_row3\" class=\"row_heading level0 row3\" >3</th>\n",
       "      <td id=\"T_50f2c_row3_col0\" class=\"data row3 col0\" >Original data shape</td>\n",
       "      <td id=\"T_50f2c_row3_col1\" class=\"data row3 col1\" >(6818, 7)</td>\n",
       "    </tr>\n",
       "    <tr>\n",
       "      <th id=\"T_50f2c_level0_row4\" class=\"row_heading level0 row4\" >4</th>\n",
       "      <td id=\"T_50f2c_row4_col0\" class=\"data row4 col0\" >Transformed data shape</td>\n",
       "      <td id=\"T_50f2c_row4_col1\" class=\"data row4 col1\" >(6818, 22)</td>\n",
       "    </tr>\n",
       "    <tr>\n",
       "      <th id=\"T_50f2c_level0_row5\" class=\"row_heading level0 row5\" >5</th>\n",
       "      <td id=\"T_50f2c_row5_col0\" class=\"data row5 col0\" >Transformed train set shape</td>\n",
       "      <td id=\"T_50f2c_row5_col1\" class=\"data row5 col1\" >(4772, 22)</td>\n",
       "    </tr>\n",
       "    <tr>\n",
       "      <th id=\"T_50f2c_level0_row6\" class=\"row_heading level0 row6\" >6</th>\n",
       "      <td id=\"T_50f2c_row6_col0\" class=\"data row6 col0\" >Transformed test set shape</td>\n",
       "      <td id=\"T_50f2c_row6_col1\" class=\"data row6 col1\" >(2046, 22)</td>\n",
       "    </tr>\n",
       "    <tr>\n",
       "      <th id=\"T_50f2c_level0_row7\" class=\"row_heading level0 row7\" >7</th>\n",
       "      <td id=\"T_50f2c_row7_col0\" class=\"data row7 col0\" >Ignore features</td>\n",
       "      <td id=\"T_50f2c_row7_col1\" class=\"data row7 col1\" >1</td>\n",
       "    </tr>\n",
       "    <tr>\n",
       "      <th id=\"T_50f2c_level0_row8\" class=\"row_heading level0 row8\" >8</th>\n",
       "      <td id=\"T_50f2c_row8_col0\" class=\"data row8 col0\" >Numeric features</td>\n",
       "      <td id=\"T_50f2c_row8_col1\" class=\"data row8 col1\" >1</td>\n",
       "    </tr>\n",
       "    <tr>\n",
       "      <th id=\"T_50f2c_level0_row9\" class=\"row_heading level0 row9\" >9</th>\n",
       "      <td id=\"T_50f2c_row9_col0\" class=\"data row9 col0\" >Categorical features</td>\n",
       "      <td id=\"T_50f2c_row9_col1\" class=\"data row9 col1\" >4</td>\n",
       "    </tr>\n",
       "    <tr>\n",
       "      <th id=\"T_50f2c_level0_row10\" class=\"row_heading level0 row10\" >10</th>\n",
       "      <td id=\"T_50f2c_row10_col0\" class=\"data row10 col0\" >Preprocess</td>\n",
       "      <td id=\"T_50f2c_row10_col1\" class=\"data row10 col1\" >True</td>\n",
       "    </tr>\n",
       "    <tr>\n",
       "      <th id=\"T_50f2c_level0_row11\" class=\"row_heading level0 row11\" >11</th>\n",
       "      <td id=\"T_50f2c_row11_col0\" class=\"data row11 col0\" >Imputation type</td>\n",
       "      <td id=\"T_50f2c_row11_col1\" class=\"data row11 col1\" >simple</td>\n",
       "    </tr>\n",
       "    <tr>\n",
       "      <th id=\"T_50f2c_level0_row12\" class=\"row_heading level0 row12\" >12</th>\n",
       "      <td id=\"T_50f2c_row12_col0\" class=\"data row12 col0\" >Numeric imputation</td>\n",
       "      <td id=\"T_50f2c_row12_col1\" class=\"data row12 col1\" >mean</td>\n",
       "    </tr>\n",
       "    <tr>\n",
       "      <th id=\"T_50f2c_level0_row13\" class=\"row_heading level0 row13\" >13</th>\n",
       "      <td id=\"T_50f2c_row13_col0\" class=\"data row13 col0\" >Categorical imputation</td>\n",
       "      <td id=\"T_50f2c_row13_col1\" class=\"data row13 col1\" >mode</td>\n",
       "    </tr>\n",
       "    <tr>\n",
       "      <th id=\"T_50f2c_level0_row14\" class=\"row_heading level0 row14\" >14</th>\n",
       "      <td id=\"T_50f2c_row14_col0\" class=\"data row14 col0\" >Maximum one-hot encoding</td>\n",
       "      <td id=\"T_50f2c_row14_col1\" class=\"data row14 col1\" >25</td>\n",
       "    </tr>\n",
       "    <tr>\n",
       "      <th id=\"T_50f2c_level0_row15\" class=\"row_heading level0 row15\" >15</th>\n",
       "      <td id=\"T_50f2c_row15_col0\" class=\"data row15 col0\" >Encoding method</td>\n",
       "      <td id=\"T_50f2c_row15_col1\" class=\"data row15 col1\" >None</td>\n",
       "    </tr>\n",
       "    <tr>\n",
       "      <th id=\"T_50f2c_level0_row16\" class=\"row_heading level0 row16\" >16</th>\n",
       "      <td id=\"T_50f2c_row16_col0\" class=\"data row16 col0\" >Fold Generator</td>\n",
       "      <td id=\"T_50f2c_row16_col1\" class=\"data row16 col1\" >StratifiedKFold</td>\n",
       "    </tr>\n",
       "    <tr>\n",
       "      <th id=\"T_50f2c_level0_row17\" class=\"row_heading level0 row17\" >17</th>\n",
       "      <td id=\"T_50f2c_row17_col0\" class=\"data row17 col0\" >Fold Number</td>\n",
       "      <td id=\"T_50f2c_row17_col1\" class=\"data row17 col1\" >10</td>\n",
       "    </tr>\n",
       "    <tr>\n",
       "      <th id=\"T_50f2c_level0_row18\" class=\"row_heading level0 row18\" >18</th>\n",
       "      <td id=\"T_50f2c_row18_col0\" class=\"data row18 col0\" >CPU Jobs</td>\n",
       "      <td id=\"T_50f2c_row18_col1\" class=\"data row18 col1\" >-1</td>\n",
       "    </tr>\n",
       "    <tr>\n",
       "      <th id=\"T_50f2c_level0_row19\" class=\"row_heading level0 row19\" >19</th>\n",
       "      <td id=\"T_50f2c_row19_col0\" class=\"data row19 col0\" >Use GPU</td>\n",
       "      <td id=\"T_50f2c_row19_col1\" class=\"data row19 col1\" >False</td>\n",
       "    </tr>\n",
       "    <tr>\n",
       "      <th id=\"T_50f2c_level0_row20\" class=\"row_heading level0 row20\" >20</th>\n",
       "      <td id=\"T_50f2c_row20_col0\" class=\"data row20 col0\" >Log Experiment</td>\n",
       "      <td id=\"T_50f2c_row20_col1\" class=\"data row20 col1\" >False</td>\n",
       "    </tr>\n",
       "    <tr>\n",
       "      <th id=\"T_50f2c_level0_row21\" class=\"row_heading level0 row21\" >21</th>\n",
       "      <td id=\"T_50f2c_row21_col0\" class=\"data row21 col0\" >Experiment Name</td>\n",
       "      <td id=\"T_50f2c_row21_col1\" class=\"data row21 col1\" >clf-default-name</td>\n",
       "    </tr>\n",
       "    <tr>\n",
       "      <th id=\"T_50f2c_level0_row22\" class=\"row_heading level0 row22\" >22</th>\n",
       "      <td id=\"T_50f2c_row22_col0\" class=\"data row22 col0\" >USI</td>\n",
       "      <td id=\"T_50f2c_row22_col1\" class=\"data row22 col1\" >7eb6</td>\n",
       "    </tr>\n",
       "  </tbody>\n",
       "</table>\n"
      ],
      "text/plain": [
       "<pandas.io.formats.style.Styler at 0x2e926096530>"
      ]
     },
     "metadata": {},
     "output_type": "display_data"
    }
   ],
   "source": [
    "clf = setup(data=dataset, target='status', ignore_features=['en'], session_id=123)"
   ]
  },
  {
   "cell_type": "markdown",
   "metadata": {},
   "source": [
    "target='status': Цільова змінна — статус кредиту.\n",
    "ignore_features=['en']: Ігноруємо текстову ознаку для спрощення.\n",
    "session_id=123: Забезпечує відтворюваність результатів.\n",
    "\n",
    "Після запуску setup() PyCaret виведе таблицю з інформацією про датасет: кількість зразків, ознак, типи даних, пропущені значення тощо. Якщо класи незбалансовані, можна додати fix_imbalance=True.\n",
    "\n"
   ]
  },
  {
   "cell_type": "markdown",
   "metadata": {},
   "source": [
    "### Порівняння моделей"
   ]
  },
  {
   "cell_type": "code",
   "execution_count": 142,
   "metadata": {},
   "outputs": [
    {
     "data": {
      "text/html": [],
      "text/plain": [
       "<IPython.core.display.HTML object>"
      ]
     },
     "metadata": {},
     "output_type": "display_data"
    },
    {
     "data": {
      "text/html": [
       "<style type=\"text/css\">\n",
       "#T_64bb8 th {\n",
       "  text-align: left;\n",
       "}\n",
       "#T_64bb8_row0_col0, #T_64bb8_row0_col2, #T_64bb8_row0_col3, #T_64bb8_row0_col5, #T_64bb8_row1_col0, #T_64bb8_row1_col1, #T_64bb8_row1_col3, #T_64bb8_row1_col4, #T_64bb8_row1_col6, #T_64bb8_row1_col7, #T_64bb8_row2_col0, #T_64bb8_row2_col1, #T_64bb8_row2_col2, #T_64bb8_row2_col3, #T_64bb8_row2_col4, #T_64bb8_row2_col5, #T_64bb8_row2_col6, #T_64bb8_row2_col7, #T_64bb8_row3_col0, #T_64bb8_row3_col1, #T_64bb8_row3_col2, #T_64bb8_row3_col3, #T_64bb8_row3_col4, #T_64bb8_row3_col5, #T_64bb8_row3_col6, #T_64bb8_row3_col7, #T_64bb8_row4_col0, #T_64bb8_row4_col1, #T_64bb8_row4_col2, #T_64bb8_row4_col3, #T_64bb8_row4_col4, #T_64bb8_row4_col5, #T_64bb8_row4_col6, #T_64bb8_row4_col7, #T_64bb8_row5_col0, #T_64bb8_row5_col1, #T_64bb8_row5_col2, #T_64bb8_row5_col3, #T_64bb8_row5_col4, #T_64bb8_row5_col5, #T_64bb8_row5_col6, #T_64bb8_row5_col7, #T_64bb8_row6_col0, #T_64bb8_row6_col1, #T_64bb8_row6_col2, #T_64bb8_row6_col3, #T_64bb8_row6_col4, #T_64bb8_row6_col5, #T_64bb8_row6_col6, #T_64bb8_row6_col7, #T_64bb8_row7_col0, #T_64bb8_row7_col1, #T_64bb8_row7_col2, #T_64bb8_row7_col3, #T_64bb8_row7_col4, #T_64bb8_row7_col5, #T_64bb8_row7_col6, #T_64bb8_row7_col7, #T_64bb8_row8_col0, #T_64bb8_row8_col1, #T_64bb8_row8_col2, #T_64bb8_row8_col3, #T_64bb8_row8_col4, #T_64bb8_row8_col5, #T_64bb8_row8_col6, #T_64bb8_row8_col7, #T_64bb8_row9_col0, #T_64bb8_row9_col1, #T_64bb8_row9_col2, #T_64bb8_row9_col3, #T_64bb8_row9_col4, #T_64bb8_row9_col5, #T_64bb8_row9_col6, #T_64bb8_row9_col7, #T_64bb8_row10_col0, #T_64bb8_row10_col1, #T_64bb8_row10_col2, #T_64bb8_row10_col3, #T_64bb8_row10_col4, #T_64bb8_row10_col5, #T_64bb8_row10_col6, #T_64bb8_row10_col7, #T_64bb8_row11_col0, #T_64bb8_row11_col1, #T_64bb8_row11_col2, #T_64bb8_row11_col3, #T_64bb8_row11_col4, #T_64bb8_row11_col5, #T_64bb8_row11_col6, #T_64bb8_row11_col7, #T_64bb8_row12_col0, #T_64bb8_row12_col1, #T_64bb8_row12_col2, #T_64bb8_row12_col3, #T_64bb8_row12_col4, #T_64bb8_row12_col5, #T_64bb8_row12_col6, #T_64bb8_row12_col7, #T_64bb8_row13_col0, #T_64bb8_row13_col1, #T_64bb8_row13_col2, #T_64bb8_row13_col4, #T_64bb8_row13_col5, #T_64bb8_row13_col6, #T_64bb8_row13_col7 {\n",
       "  text-align: left;\n",
       "}\n",
       "#T_64bb8_row0_col1, #T_64bb8_row0_col4, #T_64bb8_row0_col6, #T_64bb8_row0_col7, #T_64bb8_row1_col2, #T_64bb8_row1_col5, #T_64bb8_row13_col3 {\n",
       "  text-align: left;\n",
       "  background-color: yellow;\n",
       "}\n",
       "#T_64bb8_row0_col8, #T_64bb8_row1_col8, #T_64bb8_row2_col8, #T_64bb8_row3_col8, #T_64bb8_row4_col8, #T_64bb8_row5_col8, #T_64bb8_row6_col8, #T_64bb8_row7_col8, #T_64bb8_row8_col8, #T_64bb8_row9_col8, #T_64bb8_row10_col8, #T_64bb8_row11_col8, #T_64bb8_row13_col8 {\n",
       "  text-align: left;\n",
       "  background-color: lightgrey;\n",
       "}\n",
       "#T_64bb8_row12_col8 {\n",
       "  text-align: left;\n",
       "  background-color: yellow;\n",
       "  background-color: lightgrey;\n",
       "}\n",
       "</style>\n",
       "<table id=\"T_64bb8\">\n",
       "  <thead>\n",
       "    <tr>\n",
       "      <th class=\"blank level0\" >&nbsp;</th>\n",
       "      <th id=\"T_64bb8_level0_col0\" class=\"col_heading level0 col0\" >Model</th>\n",
       "      <th id=\"T_64bb8_level0_col1\" class=\"col_heading level0 col1\" >Accuracy</th>\n",
       "      <th id=\"T_64bb8_level0_col2\" class=\"col_heading level0 col2\" >AUC</th>\n",
       "      <th id=\"T_64bb8_level0_col3\" class=\"col_heading level0 col3\" >Recall</th>\n",
       "      <th id=\"T_64bb8_level0_col4\" class=\"col_heading level0 col4\" >Prec.</th>\n",
       "      <th id=\"T_64bb8_level0_col5\" class=\"col_heading level0 col5\" >F1</th>\n",
       "      <th id=\"T_64bb8_level0_col6\" class=\"col_heading level0 col6\" >Kappa</th>\n",
       "      <th id=\"T_64bb8_level0_col7\" class=\"col_heading level0 col7\" >MCC</th>\n",
       "      <th id=\"T_64bb8_level0_col8\" class=\"col_heading level0 col8\" >TT (Sec)</th>\n",
       "    </tr>\n",
       "  </thead>\n",
       "  <tbody>\n",
       "    <tr>\n",
       "      <th id=\"T_64bb8_level0_row0\" class=\"row_heading level0 row0\" >gbc</th>\n",
       "      <td id=\"T_64bb8_row0_col0\" class=\"data row0 col0\" >Gradient Boosting Classifier</td>\n",
       "      <td id=\"T_64bb8_row0_col1\" class=\"data row0 col1\" >0.8959</td>\n",
       "      <td id=\"T_64bb8_row0_col2\" class=\"data row0 col2\" >0.9580</td>\n",
       "      <td id=\"T_64bb8_row0_col3\" class=\"data row0 col3\" >0.8175</td>\n",
       "      <td id=\"T_64bb8_row0_col4\" class=\"data row0 col4\" >0.9665</td>\n",
       "      <td id=\"T_64bb8_row0_col5\" class=\"data row0 col5\" >0.8856</td>\n",
       "      <td id=\"T_64bb8_row0_col6\" class=\"data row0 col6\" >0.7913</td>\n",
       "      <td id=\"T_64bb8_row0_col7\" class=\"data row0 col7\" >0.8008</td>\n",
       "      <td id=\"T_64bb8_row0_col8\" class=\"data row0 col8\" >0.0360</td>\n",
       "    </tr>\n",
       "    <tr>\n",
       "      <th id=\"T_64bb8_level0_row1\" class=\"row_heading level0 row1\" >lightgbm</th>\n",
       "      <td id=\"T_64bb8_row1_col0\" class=\"data row1 col0\" >Light Gradient Boosting Machine</td>\n",
       "      <td id=\"T_64bb8_row1_col1\" class=\"data row1 col1\" >0.8952</td>\n",
       "      <td id=\"T_64bb8_row1_col2\" class=\"data row1 col2\" >0.9597</td>\n",
       "      <td id=\"T_64bb8_row1_col3\" class=\"data row1 col3\" >0.8493</td>\n",
       "      <td id=\"T_64bb8_row1_col4\" class=\"data row1 col4\" >0.9326</td>\n",
       "      <td id=\"T_64bb8_row1_col5\" class=\"data row1 col5\" >0.8889</td>\n",
       "      <td id=\"T_64bb8_row1_col6\" class=\"data row1 col6\" >0.7902</td>\n",
       "      <td id=\"T_64bb8_row1_col7\" class=\"data row1 col7\" >0.7934</td>\n",
       "      <td id=\"T_64bb8_row1_col8\" class=\"data row1 col8\" >0.0600</td>\n",
       "    </tr>\n",
       "    <tr>\n",
       "      <th id=\"T_64bb8_level0_row2\" class=\"row_heading level0 row2\" >dt</th>\n",
       "      <td id=\"T_64bb8_row2_col0\" class=\"data row2 col0\" >Decision Tree Classifier</td>\n",
       "      <td id=\"T_64bb8_row2_col1\" class=\"data row2 col1\" >0.8847</td>\n",
       "      <td id=\"T_64bb8_row2_col2\" class=\"data row2 col2\" >0.9138</td>\n",
       "      <td id=\"T_64bb8_row2_col3\" class=\"data row2 col3\" >0.8472</td>\n",
       "      <td id=\"T_64bb8_row2_col4\" class=\"data row2 col4\" >0.9132</td>\n",
       "      <td id=\"T_64bb8_row2_col5\" class=\"data row2 col5\" >0.8789</td>\n",
       "      <td id=\"T_64bb8_row2_col6\" class=\"data row2 col6\" >0.7692</td>\n",
       "      <td id=\"T_64bb8_row2_col7\" class=\"data row2 col7\" >0.7713</td>\n",
       "      <td id=\"T_64bb8_row2_col8\" class=\"data row2 col8\" >0.0110</td>\n",
       "    </tr>\n",
       "    <tr>\n",
       "      <th id=\"T_64bb8_level0_row3\" class=\"row_heading level0 row3\" >rf</th>\n",
       "      <td id=\"T_64bb8_row3_col0\" class=\"data row3 col0\" >Random Forest Classifier</td>\n",
       "      <td id=\"T_64bb8_row3_col1\" class=\"data row3 col1\" >0.8824</td>\n",
       "      <td id=\"T_64bb8_row3_col2\" class=\"data row3 col2\" >0.9453</td>\n",
       "      <td id=\"T_64bb8_row3_col3\" class=\"data row3 col3\" >0.8548</td>\n",
       "      <td id=\"T_64bb8_row3_col4\" class=\"data row3 col4\" >0.9021</td>\n",
       "      <td id=\"T_64bb8_row3_col5\" class=\"data row3 col5\" >0.8777</td>\n",
       "      <td id=\"T_64bb8_row3_col6\" class=\"data row3 col6\" >0.7647</td>\n",
       "      <td id=\"T_64bb8_row3_col7\" class=\"data row3 col7\" >0.7659</td>\n",
       "      <td id=\"T_64bb8_row3_col8\" class=\"data row3 col8\" >0.0440</td>\n",
       "    </tr>\n",
       "    <tr>\n",
       "      <th id=\"T_64bb8_level0_row4\" class=\"row_heading level0 row4\" >et</th>\n",
       "      <td id=\"T_64bb8_row4_col0\" class=\"data row4 col0\" >Extra Trees Classifier</td>\n",
       "      <td id=\"T_64bb8_row4_col1\" class=\"data row4 col1\" >0.8822</td>\n",
       "      <td id=\"T_64bb8_row4_col2\" class=\"data row4 col2\" >0.9236</td>\n",
       "      <td id=\"T_64bb8_row4_col3\" class=\"data row4 col3\" >0.8468</td>\n",
       "      <td id=\"T_64bb8_row4_col4\" class=\"data row4 col4\" >0.9085</td>\n",
       "      <td id=\"T_64bb8_row4_col5\" class=\"data row4 col5\" >0.8765</td>\n",
       "      <td id=\"T_64bb8_row4_col6\" class=\"data row4 col6\" >0.7642</td>\n",
       "      <td id=\"T_64bb8_row4_col7\" class=\"data row4 col7\" >0.7660</td>\n",
       "      <td id=\"T_64bb8_row4_col8\" class=\"data row4 col8\" >0.0390</td>\n",
       "    </tr>\n",
       "    <tr>\n",
       "      <th id=\"T_64bb8_level0_row5\" class=\"row_heading level0 row5\" >ada</th>\n",
       "      <td id=\"T_64bb8_row5_col0\" class=\"data row5 col0\" >Ada Boost Classifier</td>\n",
       "      <td id=\"T_64bb8_row5_col1\" class=\"data row5 col1\" >0.8669</td>\n",
       "      <td id=\"T_64bb8_row5_col2\" class=\"data row5 col2\" >0.9192</td>\n",
       "      <td id=\"T_64bb8_row5_col3\" class=\"data row5 col3\" >0.8459</td>\n",
       "      <td id=\"T_64bb8_row5_col4\" class=\"data row5 col4\" >0.8807</td>\n",
       "      <td id=\"T_64bb8_row5_col5\" class=\"data row5 col5\" >0.8626</td>\n",
       "      <td id=\"T_64bb8_row5_col6\" class=\"data row5 col6\" >0.7337</td>\n",
       "      <td id=\"T_64bb8_row5_col7\" class=\"data row5 col7\" >0.7349</td>\n",
       "      <td id=\"T_64bb8_row5_col8\" class=\"data row5 col8\" >0.0250</td>\n",
       "    </tr>\n",
       "    <tr>\n",
       "      <th id=\"T_64bb8_level0_row6\" class=\"row_heading level0 row6\" >lr</th>\n",
       "      <td id=\"T_64bb8_row6_col0\" class=\"data row6 col0\" >Logistic Regression</td>\n",
       "      <td id=\"T_64bb8_row6_col1\" class=\"data row6 col1\" >0.8653</td>\n",
       "      <td id=\"T_64bb8_row6_col2\" class=\"data row6 col2\" >0.9121</td>\n",
       "      <td id=\"T_64bb8_row6_col3\" class=\"data row6 col3\" >0.8459</td>\n",
       "      <td id=\"T_64bb8_row6_col4\" class=\"data row6 col4\" >0.8777</td>\n",
       "      <td id=\"T_64bb8_row6_col5\" class=\"data row6 col5\" >0.8611</td>\n",
       "      <td id=\"T_64bb8_row6_col6\" class=\"data row6 col6\" >0.7303</td>\n",
       "      <td id=\"T_64bb8_row6_col7\" class=\"data row6 col7\" >0.7315</td>\n",
       "      <td id=\"T_64bb8_row6_col8\" class=\"data row6 col8\" >0.0380</td>\n",
       "    </tr>\n",
       "    <tr>\n",
       "      <th id=\"T_64bb8_level0_row7\" class=\"row_heading level0 row7\" >ridge</th>\n",
       "      <td id=\"T_64bb8_row7_col0\" class=\"data row7 col0\" >Ridge Classifier</td>\n",
       "      <td id=\"T_64bb8_row7_col1\" class=\"data row7 col1\" >0.8594</td>\n",
       "      <td id=\"T_64bb8_row7_col2\" class=\"data row7 col2\" >0.9117</td>\n",
       "      <td id=\"T_64bb8_row7_col3\" class=\"data row7 col3\" >0.8459</td>\n",
       "      <td id=\"T_64bb8_row7_col4\" class=\"data row7 col4\" >0.8668</td>\n",
       "      <td id=\"T_64bb8_row7_col5\" class=\"data row7 col5\" >0.8559</td>\n",
       "      <td id=\"T_64bb8_row7_col6\" class=\"data row7 col6\" >0.7186</td>\n",
       "      <td id=\"T_64bb8_row7_col7\" class=\"data row7 col7\" >0.7194</td>\n",
       "      <td id=\"T_64bb8_row7_col8\" class=\"data row7 col8\" >0.0120</td>\n",
       "    </tr>\n",
       "    <tr>\n",
       "      <th id=\"T_64bb8_level0_row8\" class=\"row_heading level0 row8\" >lda</th>\n",
       "      <td id=\"T_64bb8_row8_col0\" class=\"data row8 col0\" >Linear Discriminant Analysis</td>\n",
       "      <td id=\"T_64bb8_row8_col1\" class=\"data row8 col1\" >0.8592</td>\n",
       "      <td id=\"T_64bb8_row8_col2\" class=\"data row8 col2\" >0.9118</td>\n",
       "      <td id=\"T_64bb8_row8_col3\" class=\"data row8 col3\" >0.8459</td>\n",
       "      <td id=\"T_64bb8_row8_col4\" class=\"data row8 col4\" >0.8664</td>\n",
       "      <td id=\"T_64bb8_row8_col5\" class=\"data row8 col5\" >0.8557</td>\n",
       "      <td id=\"T_64bb8_row8_col6\" class=\"data row8 col6\" >0.7182</td>\n",
       "      <td id=\"T_64bb8_row8_col7\" class=\"data row8 col7\" >0.7190</td>\n",
       "      <td id=\"T_64bb8_row8_col8\" class=\"data row8 col8\" >0.0110</td>\n",
       "    </tr>\n",
       "    <tr>\n",
       "      <th id=\"T_64bb8_level0_row9\" class=\"row_heading level0 row9\" >knn</th>\n",
       "      <td id=\"T_64bb8_row9_col0\" class=\"data row9 col0\" >K Neighbors Classifier</td>\n",
       "      <td id=\"T_64bb8_row9_col1\" class=\"data row9 col1\" >0.8516</td>\n",
       "      <td id=\"T_64bb8_row9_col2\" class=\"data row9 col2\" >0.9195</td>\n",
       "      <td id=\"T_64bb8_row9_col3\" class=\"data row9 col3\" >0.8540</td>\n",
       "      <td id=\"T_64bb8_row9_col4\" class=\"data row9 col4\" >0.8474</td>\n",
       "      <td id=\"T_64bb8_row9_col5\" class=\"data row9 col5\" >0.8504</td>\n",
       "      <td id=\"T_64bb8_row9_col6\" class=\"data row9 col6\" >0.7032</td>\n",
       "      <td id=\"T_64bb8_row9_col7\" class=\"data row9 col7\" >0.7038</td>\n",
       "      <td id=\"T_64bb8_row9_col8\" class=\"data row9 col8\" >0.0200</td>\n",
       "    </tr>\n",
       "    <tr>\n",
       "      <th id=\"T_64bb8_level0_row10\" class=\"row_heading level0 row10\" >nb</th>\n",
       "      <td id=\"T_64bb8_row10_col0\" class=\"data row10 col0\" >Naive Bayes</td>\n",
       "      <td id=\"T_64bb8_row10_col1\" class=\"data row10 col1\" >0.8227</td>\n",
       "      <td id=\"T_64bb8_row10_col2\" class=\"data row10 col2\" >0.8334</td>\n",
       "      <td id=\"T_64bb8_row10_col3\" class=\"data row10 col3\" >0.8387</td>\n",
       "      <td id=\"T_64bb8_row10_col4\" class=\"data row10 col4\" >0.8105</td>\n",
       "      <td id=\"T_64bb8_row10_col5\" class=\"data row10 col5\" >0.8239</td>\n",
       "      <td id=\"T_64bb8_row10_col6\" class=\"data row10 col6\" >0.6455</td>\n",
       "      <td id=\"T_64bb8_row10_col7\" class=\"data row10 col7\" >0.6468</td>\n",
       "      <td id=\"T_64bb8_row10_col8\" class=\"data row10 col8\" >0.0120</td>\n",
       "    </tr>\n",
       "    <tr>\n",
       "      <th id=\"T_64bb8_level0_row11\" class=\"row_heading level0 row11\" >svm</th>\n",
       "      <td id=\"T_64bb8_row11_col0\" class=\"data row11 col0\" >SVM - Linear Kernel</td>\n",
       "      <td id=\"T_64bb8_row11_col1\" class=\"data row11 col1\" >0.5693</td>\n",
       "      <td id=\"T_64bb8_row11_col2\" class=\"data row11 col2\" >0.6688</td>\n",
       "      <td id=\"T_64bb8_row11_col3\" class=\"data row11 col3\" >0.4785</td>\n",
       "      <td id=\"T_64bb8_row11_col4\" class=\"data row11 col4\" >0.7362</td>\n",
       "      <td id=\"T_64bb8_row11_col5\" class=\"data row11 col5\" >0.4412</td>\n",
       "      <td id=\"T_64bb8_row11_col6\" class=\"data row11 col6\" >0.1371</td>\n",
       "      <td id=\"T_64bb8_row11_col7\" class=\"data row11 col7\" >0.1890</td>\n",
       "      <td id=\"T_64bb8_row11_col8\" class=\"data row11 col8\" >0.0150</td>\n",
       "    </tr>\n",
       "    <tr>\n",
       "      <th id=\"T_64bb8_level0_row12\" class=\"row_heading level0 row12\" >dummy</th>\n",
       "      <td id=\"T_64bb8_row12_col0\" class=\"data row12 col0\" >Dummy Classifier</td>\n",
       "      <td id=\"T_64bb8_row12_col1\" class=\"data row12 col1\" >0.5063</td>\n",
       "      <td id=\"T_64bb8_row12_col2\" class=\"data row12 col2\" >0.5000</td>\n",
       "      <td id=\"T_64bb8_row12_col3\" class=\"data row12 col3\" >0.0000</td>\n",
       "      <td id=\"T_64bb8_row12_col4\" class=\"data row12 col4\" >0.0000</td>\n",
       "      <td id=\"T_64bb8_row12_col5\" class=\"data row12 col5\" >0.0000</td>\n",
       "      <td id=\"T_64bb8_row12_col6\" class=\"data row12 col6\" >0.0000</td>\n",
       "      <td id=\"T_64bb8_row12_col7\" class=\"data row12 col7\" >0.0000</td>\n",
       "      <td id=\"T_64bb8_row12_col8\" class=\"data row12 col8\" >0.0100</td>\n",
       "    </tr>\n",
       "    <tr>\n",
       "      <th id=\"T_64bb8_level0_row13\" class=\"row_heading level0 row13\" >qda</th>\n",
       "      <td id=\"T_64bb8_row13_col0\" class=\"data row13 col0\" >Quadratic Discriminant Analysis</td>\n",
       "      <td id=\"T_64bb8_row13_col1\" class=\"data row13 col1\" >0.4937</td>\n",
       "      <td id=\"T_64bb8_row13_col2\" class=\"data row13 col2\" >0.0000</td>\n",
       "      <td id=\"T_64bb8_row13_col3\" class=\"data row13 col3\" >1.0000</td>\n",
       "      <td id=\"T_64bb8_row13_col4\" class=\"data row13 col4\" >0.4937</td>\n",
       "      <td id=\"T_64bb8_row13_col5\" class=\"data row13 col5\" >0.6611</td>\n",
       "      <td id=\"T_64bb8_row13_col6\" class=\"data row13 col6\" >0.0000</td>\n",
       "      <td id=\"T_64bb8_row13_col7\" class=\"data row13 col7\" >0.0000</td>\n",
       "      <td id=\"T_64bb8_row13_col8\" class=\"data row13 col8\" >0.0150</td>\n",
       "    </tr>\n",
       "  </tbody>\n",
       "</table>\n"
      ],
      "text/plain": [
       "<pandas.io.formats.style.Styler at 0x2e92ab78ca0>"
      ]
     },
     "metadata": {},
     "output_type": "display_data"
    },
    {
     "data": {
      "text/html": [],
      "text/plain": [
       "<IPython.core.display.HTML object>"
      ]
     },
     "metadata": {},
     "output_type": "display_data"
    }
   ],
   "source": [
    "best_model = compare_models()"
   ]
  },
  {
   "cell_type": "markdown",
   "metadata": {},
   "source": [
    "Ця функція тренує кілька моделей (наприклад, логістичну регресію, дерева рішень, випадковий ліс тощо) і виводить таблицю з метриками: Accuracy, AUC, Recall, Precision, F1-score, Kappa, MCC. Найкраща модель обирається за замовчуванням за Accuracy."
   ]
  },
  {
   "cell_type": "markdown",
   "metadata": {},
   "source": [
    "### Налаштування найкращої моделі\n",
    "PyCaret оптимізує гіперпараметри моделі для підвищення продуктивності."
   ]
  },
  {
   "cell_type": "code",
   "execution_count": 143,
   "metadata": {},
   "outputs": [
    {
     "data": {
      "text/html": [],
      "text/plain": [
       "<IPython.core.display.HTML object>"
      ]
     },
     "metadata": {},
     "output_type": "display_data"
    },
    {
     "data": {
      "text/html": [
       "<style type=\"text/css\">\n",
       "#T_a222f_row10_col0, #T_a222f_row10_col1, #T_a222f_row10_col2, #T_a222f_row10_col3, #T_a222f_row10_col4, #T_a222f_row10_col5, #T_a222f_row10_col6 {\n",
       "  background: yellow;\n",
       "}\n",
       "</style>\n",
       "<table id=\"T_a222f\">\n",
       "  <thead>\n",
       "    <tr>\n",
       "      <th class=\"blank level0\" >&nbsp;</th>\n",
       "      <th id=\"T_a222f_level0_col0\" class=\"col_heading level0 col0\" >Accuracy</th>\n",
       "      <th id=\"T_a222f_level0_col1\" class=\"col_heading level0 col1\" >AUC</th>\n",
       "      <th id=\"T_a222f_level0_col2\" class=\"col_heading level0 col2\" >Recall</th>\n",
       "      <th id=\"T_a222f_level0_col3\" class=\"col_heading level0 col3\" >Prec.</th>\n",
       "      <th id=\"T_a222f_level0_col4\" class=\"col_heading level0 col4\" >F1</th>\n",
       "      <th id=\"T_a222f_level0_col5\" class=\"col_heading level0 col5\" >Kappa</th>\n",
       "      <th id=\"T_a222f_level0_col6\" class=\"col_heading level0 col6\" >MCC</th>\n",
       "    </tr>\n",
       "    <tr>\n",
       "      <th class=\"index_name level0\" >Fold</th>\n",
       "      <th class=\"blank col0\" >&nbsp;</th>\n",
       "      <th class=\"blank col1\" >&nbsp;</th>\n",
       "      <th class=\"blank col2\" >&nbsp;</th>\n",
       "      <th class=\"blank col3\" >&nbsp;</th>\n",
       "      <th class=\"blank col4\" >&nbsp;</th>\n",
       "      <th class=\"blank col5\" >&nbsp;</th>\n",
       "      <th class=\"blank col6\" >&nbsp;</th>\n",
       "    </tr>\n",
       "  </thead>\n",
       "  <tbody>\n",
       "    <tr>\n",
       "      <th id=\"T_a222f_level0_row0\" class=\"row_heading level0 row0\" >0</th>\n",
       "      <td id=\"T_a222f_row0_col0\" class=\"data row0 col0\" >0.8787</td>\n",
       "      <td id=\"T_a222f_row0_col1\" class=\"data row0 col1\" >0.9523</td>\n",
       "      <td id=\"T_a222f_row0_col2\" class=\"data row0 col2\" >0.7881</td>\n",
       "      <td id=\"T_a222f_row0_col3\" class=\"data row0 col3\" >0.9588</td>\n",
       "      <td id=\"T_a222f_row0_col4\" class=\"data row0 col4\" >0.8651</td>\n",
       "      <td id=\"T_a222f_row0_col5\" class=\"data row0 col5\" >0.7567</td>\n",
       "      <td id=\"T_a222f_row0_col6\" class=\"data row0 col6\" >0.7688</td>\n",
       "    </tr>\n",
       "    <tr>\n",
       "      <th id=\"T_a222f_level0_row1\" class=\"row_heading level0 row1\" >1</th>\n",
       "      <td id=\"T_a222f_row1_col0\" class=\"data row1 col0\" >0.9017</td>\n",
       "      <td id=\"T_a222f_row1_col1\" class=\"data row1 col1\" >0.9517</td>\n",
       "      <td id=\"T_a222f_row1_col2\" class=\"data row1 col2\" >0.8390</td>\n",
       "      <td id=\"T_a222f_row1_col3\" class=\"data row1 col3\" >0.9565</td>\n",
       "      <td id=\"T_a222f_row1_col4\" class=\"data row1 col4\" >0.8939</td>\n",
       "      <td id=\"T_a222f_row1_col5\" class=\"data row1 col5\" >0.8030</td>\n",
       "      <td id=\"T_a222f_row1_col6\" class=\"data row1 col6\" >0.8090</td>\n",
       "    </tr>\n",
       "    <tr>\n",
       "      <th id=\"T_a222f_level0_row2\" class=\"row_heading level0 row2\" >2</th>\n",
       "      <td id=\"T_a222f_row2_col0\" class=\"data row2 col0\" >0.8889</td>\n",
       "      <td id=\"T_a222f_row2_col1\" class=\"data row2 col1\" >0.9501</td>\n",
       "      <td id=\"T_a222f_row2_col2\" class=\"data row2 col2\" >0.8170</td>\n",
       "      <td id=\"T_a222f_row2_col3\" class=\"data row2 col3\" >0.9505</td>\n",
       "      <td id=\"T_a222f_row2_col4\" class=\"data row2 col4\" >0.8787</td>\n",
       "      <td id=\"T_a222f_row2_col5\" class=\"data row2 col5\" >0.7773</td>\n",
       "      <td id=\"T_a222f_row2_col6\" class=\"data row2 col6\" >0.7849</td>\n",
       "    </tr>\n",
       "    <tr>\n",
       "      <th id=\"T_a222f_level0_row3\" class=\"row_heading level0 row3\" >3</th>\n",
       "      <td id=\"T_a222f_row3_col0\" class=\"data row3 col0\" >0.8910</td>\n",
       "      <td id=\"T_a222f_row3_col1\" class=\"data row3 col1\" >0.9542</td>\n",
       "      <td id=\"T_a222f_row3_col2\" class=\"data row3 col2\" >0.8298</td>\n",
       "      <td id=\"T_a222f_row3_col3\" class=\"data row3 col3\" >0.9420</td>\n",
       "      <td id=\"T_a222f_row3_col4\" class=\"data row3 col4\" >0.8824</td>\n",
       "      <td id=\"T_a222f_row3_col5\" class=\"data row3 col5\" >0.7815</td>\n",
       "      <td id=\"T_a222f_row3_col6\" class=\"data row3 col6\" >0.7870</td>\n",
       "    </tr>\n",
       "    <tr>\n",
       "      <th id=\"T_a222f_level0_row4\" class=\"row_heading level0 row4\" >4</th>\n",
       "      <td id=\"T_a222f_row4_col0\" class=\"data row4 col0\" >0.9078</td>\n",
       "      <td id=\"T_a222f_row4_col1\" class=\"data row4 col1\" >0.9601</td>\n",
       "      <td id=\"T_a222f_row4_col2\" class=\"data row4 col2\" >0.8468</td>\n",
       "      <td id=\"T_a222f_row4_col3\" class=\"data row4 col3\" >0.9614</td>\n",
       "      <td id=\"T_a222f_row4_col4\" class=\"data row4 col4\" >0.9005</td>\n",
       "      <td id=\"T_a222f_row4_col5\" class=\"data row4 col5\" >0.8152</td>\n",
       "      <td id=\"T_a222f_row4_col6\" class=\"data row4 col6\" >0.8209</td>\n",
       "    </tr>\n",
       "    <tr>\n",
       "      <th id=\"T_a222f_level0_row5\" class=\"row_heading level0 row5\" >5</th>\n",
       "      <td id=\"T_a222f_row5_col0\" class=\"data row5 col0\" >0.8994</td>\n",
       "      <td id=\"T_a222f_row5_col1\" class=\"data row5 col1\" >0.9591</td>\n",
       "      <td id=\"T_a222f_row5_col2\" class=\"data row5 col2\" >0.8383</td>\n",
       "      <td id=\"T_a222f_row5_col3\" class=\"data row5 col3\" >0.9517</td>\n",
       "      <td id=\"T_a222f_row5_col4\" class=\"data row5 col4\" >0.8914</td>\n",
       "      <td id=\"T_a222f_row5_col5\" class=\"data row5 col5\" >0.7984</td>\n",
       "      <td id=\"T_a222f_row5_col6\" class=\"data row5 col6\" >0.8039</td>\n",
       "    </tr>\n",
       "    <tr>\n",
       "      <th id=\"T_a222f_level0_row6\" class=\"row_heading level0 row6\" >6</th>\n",
       "      <td id=\"T_a222f_row6_col0\" class=\"data row6 col0\" >0.8973</td>\n",
       "      <td id=\"T_a222f_row6_col1\" class=\"data row6 col1\" >0.9582</td>\n",
       "      <td id=\"T_a222f_row6_col2\" class=\"data row6 col2\" >0.8220</td>\n",
       "      <td id=\"T_a222f_row6_col3\" class=\"data row6 col3\" >0.9652</td>\n",
       "      <td id=\"T_a222f_row6_col4\" class=\"data row6 col4\" >0.8879</td>\n",
       "      <td id=\"T_a222f_row6_col5\" class=\"data row6 col5\" >0.7942</td>\n",
       "      <td id=\"T_a222f_row6_col6\" class=\"data row6 col6\" >0.8029</td>\n",
       "    </tr>\n",
       "    <tr>\n",
       "      <th id=\"T_a222f_level0_row7\" class=\"row_heading level0 row7\" >7</th>\n",
       "      <td id=\"T_a222f_row7_col0\" class=\"data row7 col0\" >0.8889</td>\n",
       "      <td id=\"T_a222f_row7_col1\" class=\"data row7 col1\" >0.9648</td>\n",
       "      <td id=\"T_a222f_row7_col2\" class=\"data row7 col2\" >0.8347</td>\n",
       "      <td id=\"T_a222f_row7_col3\" class=\"data row7 col3\" >0.9336</td>\n",
       "      <td id=\"T_a222f_row7_col4\" class=\"data row7 col4\" >0.8814</td>\n",
       "      <td id=\"T_a222f_row7_col5\" class=\"data row7 col5\" >0.7775</td>\n",
       "      <td id=\"T_a222f_row7_col6\" class=\"data row7 col6\" >0.7818</td>\n",
       "    </tr>\n",
       "    <tr>\n",
       "      <th id=\"T_a222f_level0_row8\" class=\"row_heading level0 row8\" >8</th>\n",
       "      <td id=\"T_a222f_row8_col0\" class=\"data row8 col0\" >0.8973</td>\n",
       "      <td id=\"T_a222f_row8_col1\" class=\"data row8 col1\" >0.9689</td>\n",
       "      <td id=\"T_a222f_row8_col2\" class=\"data row8 col2\" >0.8475</td>\n",
       "      <td id=\"T_a222f_row8_col3\" class=\"data row8 col3\" >0.9390</td>\n",
       "      <td id=\"T_a222f_row8_col4\" class=\"data row8 col4\" >0.8909</td>\n",
       "      <td id=\"T_a222f_row8_col5\" class=\"data row8 col5\" >0.7943</td>\n",
       "      <td id=\"T_a222f_row8_col6\" class=\"data row8 col6\" >0.7980</td>\n",
       "    </tr>\n",
       "    <tr>\n",
       "      <th id=\"T_a222f_level0_row9\" class=\"row_heading level0 row9\" >9</th>\n",
       "      <td id=\"T_a222f_row9_col0\" class=\"data row9 col0\" >0.8847</td>\n",
       "      <td id=\"T_a222f_row9_col1\" class=\"data row9 col1\" >0.9494</td>\n",
       "      <td id=\"T_a222f_row9_col2\" class=\"data row9 col2\" >0.8220</td>\n",
       "      <td id=\"T_a222f_row9_col3\" class=\"data row9 col3\" >0.9372</td>\n",
       "      <td id=\"T_a222f_row9_col4\" class=\"data row9 col4\" >0.8758</td>\n",
       "      <td id=\"T_a222f_row9_col5\" class=\"data row9 col5\" >0.7691</td>\n",
       "      <td id=\"T_a222f_row9_col6\" class=\"data row9 col6\" >0.7748</td>\n",
       "    </tr>\n",
       "    <tr>\n",
       "      <th id=\"T_a222f_level0_row10\" class=\"row_heading level0 row10\" >Mean</th>\n",
       "      <td id=\"T_a222f_row10_col0\" class=\"data row10 col0\" >0.8935</td>\n",
       "      <td id=\"T_a222f_row10_col1\" class=\"data row10 col1\" >0.9569</td>\n",
       "      <td id=\"T_a222f_row10_col2\" class=\"data row10 col2\" >0.8285</td>\n",
       "      <td id=\"T_a222f_row10_col3\" class=\"data row10 col3\" >0.9496</td>\n",
       "      <td id=\"T_a222f_row10_col4\" class=\"data row10 col4\" >0.8848</td>\n",
       "      <td id=\"T_a222f_row10_col5\" class=\"data row10 col5\" >0.7867</td>\n",
       "      <td id=\"T_a222f_row10_col6\" class=\"data row10 col6\" >0.7932</td>\n",
       "    </tr>\n",
       "    <tr>\n",
       "      <th id=\"T_a222f_level0_row11\" class=\"row_heading level0 row11\" >Std</th>\n",
       "      <td id=\"T_a222f_row11_col0\" class=\"data row11 col0\" >0.0082</td>\n",
       "      <td id=\"T_a222f_row11_col1\" class=\"data row11 col1\" >0.0062</td>\n",
       "      <td id=\"T_a222f_row11_col2\" class=\"data row11 col2\" >0.0167</td>\n",
       "      <td id=\"T_a222f_row11_col3\" class=\"data row11 col3\" >0.0105</td>\n",
       "      <td id=\"T_a222f_row11_col4\" class=\"data row11 col4\" >0.0097</td>\n",
       "      <td id=\"T_a222f_row11_col5\" class=\"data row11 col5\" >0.0165</td>\n",
       "      <td id=\"T_a222f_row11_col6\" class=\"data row11 col6\" >0.0156</td>\n",
       "    </tr>\n",
       "  </tbody>\n",
       "</table>\n"
      ],
      "text/plain": [
       "<pandas.io.formats.style.Styler at 0x2e90dc8a6e0>"
      ]
     },
     "metadata": {},
     "output_type": "display_data"
    },
    {
     "data": {
      "text/html": [],
      "text/plain": [
       "<IPython.core.display.HTML object>"
      ]
     },
     "metadata": {},
     "output_type": "display_data"
    },
    {
     "name": "stdout",
     "output_type": "stream",
     "text": [
      "Fitting 10 folds for each of 10 candidates, totalling 100 fits\n",
      "Original model was better than the tuned model, hence it will be returned. NOTE: The display metrics are for the tuned model (not the original one).\n"
     ]
    }
   ],
   "source": [
    "tuned_model = tune_model(best_model)"
   ]
  },
  {
   "cell_type": "markdown",
   "metadata": {},
   "source": [
    "### Оцінка моделі\n",
    "Ця команда відкриває інтерактивний інтерфейс із графіками: Confusion Matrix, ROC-крива (AUC), важливість ознак тощо. \n"
   ]
  },
  {
   "cell_type": "code",
   "execution_count": 144,
   "metadata": {},
   "outputs": [
    {
     "data": {
      "application/vnd.jupyter.widget-view+json": {
       "model_id": "89d13c36f7c044cd9d3a216c7407d4f2",
       "version_major": 2,
       "version_minor": 0
      },
      "text/plain": [
       "interactive(children=(ToggleButtons(description='Plot Type:', icons=('',), options=(('Pipeline Plot', 'pipelin…"
      ]
     },
     "metadata": {},
     "output_type": "display_data"
    }
   ],
   "source": [
    "evaluate_model(tuned_model)"
   ]
  },
  {
   "cell_type": "markdown",
   "metadata": {},
   "source": [
    "### Фіналізація моделі\n",
    "\n",
    "Модель тренується на всіх даних для підготовки до збереження."
   ]
  },
  {
   "cell_type": "code",
   "execution_count": 145,
   "metadata": {},
   "outputs": [],
   "source": [
    "final_model = finalize_model(tuned_model)"
   ]
  },
  {
   "cell_type": "markdown",
   "metadata": {},
   "source": [
    "## Збереження моделі\n",
    "\n"
   ]
  },
  {
   "cell_type": "code",
   "execution_count": 146,
   "metadata": {},
   "outputs": [
    {
     "name": "stdout",
     "output_type": "stream",
     "text": [
      "Transformation Pipeline and Model Successfully Saved\n"
     ]
    },
    {
     "data": {
      "text/plain": [
       "(Pipeline(memory=Memory(location=None),\n",
       "          steps=[('numerical_imputer',\n",
       "                  TransformerWrapper(exclude=None, include=['loan_amount'],\n",
       "                                     transformer=SimpleImputer(add_indicator=False,\n",
       "                                                               copy=True,\n",
       "                                                               fill_value=None,\n",
       "                                                               keep_empty_features=False,\n",
       "                                                               missing_values=nan,\n",
       "                                                               strategy='mean'))),\n",
       "                 ('categorical_imputer',\n",
       "                  TransformerWrapper(exclude=None,\n",
       "                                     include=['country', 'gender', 'nonpayme...\n",
       "                                             criterion='friedman_mse', init=None,\n",
       "                                             learning_rate=0.1, loss='log_loss',\n",
       "                                             max_depth=3, max_features=None,\n",
       "                                             max_leaf_nodes=None,\n",
       "                                             min_impurity_decrease=0.0,\n",
       "                                             min_samples_leaf=1,\n",
       "                                             min_samples_split=2,\n",
       "                                             min_weight_fraction_leaf=0.0,\n",
       "                                             n_estimators=100,\n",
       "                                             n_iter_no_change=None,\n",
       "                                             random_state=123, subsample=1.0,\n",
       "                                             tol=0.0001, validation_fraction=0.1,\n",
       "                                             verbose=0, warm_start=False))],\n",
       "          verbose=False),\n",
       " 'kiva_model.pkl')"
      ]
     },
     "execution_count": 146,
     "metadata": {},
     "output_type": "execute_result"
    }
   ],
   "source": [
    "save_model(final_model, 'kiva_model')"
   ]
  }
 ],
 "metadata": {
  "kernelspec": {
   "display_name": "pycaret",
   "language": "python",
   "name": "python3"
  },
  "language_info": {
   "codemirror_mode": {
    "name": "ipython",
    "version": 3
   },
   "file_extension": ".py",
   "mimetype": "text/x-python",
   "name": "python",
   "nbconvert_exporter": "python",
   "pygments_lexer": "ipython3",
   "version": "3.10.16"
  }
 },
 "nbformat": 4,
 "nbformat_minor": 2
}
