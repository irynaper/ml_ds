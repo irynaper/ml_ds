{
 "cells": [
  {
   "cell_type": "markdown",
   "id": "95cda18f",
   "metadata": {},
   "source": [
    "# Лабораторна робота №1\n",
    "\n",
    "**Тема:** Побудова класифікаційної моделі для прогнозування шансу гравця залишитись в НБА.\n",
    "\n",
    "**Завдання:** виконати класифікацію гравців NBA за допомогою PyCaret.\n",
    "\n",
    "**Використано датасет** `nba`, методи бібліотеки `PyCaret`.\n"
   ]
  },
  {
   "cell_type": "code",
   "execution_count": null,
   "id": "bcd52c0e",
   "metadata": {},
   "outputs": [],
   "source": [
    "from pycaret.datasets import get_data\n",
    "nba = get_data('nba')\n",
    "nba.dropna(inplace=True)\n",
    "nba.head()"
   ]
  },
  {
   "cell_type": "code",
   "execution_count": null,
   "id": "d2450495",
   "metadata": {},
   "outputs": [],
   "source": [
    "from pycaret.classification import *\n",
    "setup(data=nba, target='TARGET_5Yrs', session_id=42, silent=True, verbose=False)"
   ]
  },
  {
   "cell_type": "code",
   "execution_count": null,
   "id": "b69d5b83",
   "metadata": {},
   "outputs": [],
   "source": [
    "best_model = compare_models()"
   ]
  },
  {
   "cell_type": "code",
   "execution_count": null,
   "id": "3f82a35f",
   "metadata": {},
   "outputs": [],
   "source": [
    "evaluate_model(best_model)"
   ]
  },
  {
   "cell_type": "code",
   "execution_count": null,
   "id": "ed1c2367",
   "metadata": {},
   "outputs": [],
   "source": [
    "save_model(best_model, 'nba_classifier_model')"
   ]
  }
 ],
 "metadata": {},
 "nbformat": 4,
 "nbformat_minor": 5
}