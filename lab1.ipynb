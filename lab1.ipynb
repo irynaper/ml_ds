{
 "cells": [
  {
   "cell_type": "markdown",
   "id": "fa4e1449",
   "metadata": {},
   "source": [
    "# Лабораторна робота №1\n",
    "\n",
    "**Завдання:** Використати PyCaret для створення моделі класифікації гравців NBA."
   ]
  },
  {
   "cell_type": "code",
   "execution_count": null,
   "id": "cc5c8598",
   "metadata": {},
   "outputs": [],
   "source": [
    "from pycaret.datasets import get_data\n",
    "from pycaret.classification import setup, compare_models, save_model\n",
    "\n",
    "# Отримання даних\n",
    "data = get_data(\"nba\")\n",
    "data.dropna(inplace=True)\n",
    "\n",
    "# Налаштування середовища PyCaret\n",
    "clf = setup(data=data, target=\"TARGET_5Yrs\", session_id=123, silent=True, verbose=False)\n",
    "\n",
    "# Порівняння моделей\n",
    "best_model = compare_models()\n",
    "\n",
    "# Збереження моделі\n",
    "save_model(best_model, \"nba_classifier_model\")"
   ]
  },
  {
   "cell_type": "markdown",
   "id": "dde7d2b2",
   "metadata": {},
   "source": [
    "**Модель збережено як `nba_classifier_model.pkl`.**"
   ]
  }
 ],
 "metadata": {},
 "nbformat": 4,
 "nbformat_minor": 5
}
