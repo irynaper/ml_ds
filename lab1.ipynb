{
 "cells": [
  {
   "cell_type": "markdown",
   "id": "969d58f9",
   "metadata": {},
   "source": [
    "# Лабораторна робота №1: Класифікація гравців NBA\n",
    "\n",
    "\"\"\"\n",
    "Завдання: побудувати модель класифікації, яка на основі статистики гравця (PTS, AST, TRB, STL тощо) \n",
    "визначає його позицію (Position). Для цього використовуємо бібліотеку PyCaret.\n",
    "\n",
    "У результаті:\n",
    "- проведено попередній аналіз\n",
    "- побудовано кілька моделей\n",
    "- вибрано найкращу\n",
    "- модель збережено для подальшого використання в Lab2\n",
    "\"\"\""
   ]
  },
  {
   "cell_type": "code",
   "execution_count": null,
   "id": "847cef57",
   "metadata": {},
   "outputs": [],
   "source": [
    "import pandas as pd\n",
    "import matplotlib.pyplot as plt\n",
    "from pycaret.classification import *"
   ]
  },
  {
   "cell_type": "code",
   "execution_count": null,
   "id": "5df7c5e4",
   "metadata": {},
   "outputs": [],
   "source": [
    "nba = pd.read_csv(\"nba.csv\")\n",
    "nba = nba.dropna()"
   ]
  },
  {
   "cell_type": "code",
   "execution_count": null,
   "id": "0fc3a9ee",
   "metadata": {},
   "outputs": [],
   "source": [
    "plt.figure(figsize=(8,5))\n",
    "nba['PTS'].hist(bins=30)\n",
    "plt.title(\"Розподіл очок (PTS)\")\n",
    "plt.xlabel(\"Очки\")\n",
    "plt.ylabel(\"Кількість гравців\")\n",
    "plt.grid(True)\n",
    "plt.show()"
   ]
  },
  {
   "cell_type": "code",
   "execution_count": null,
   "id": "41c33ddf",
   "metadata": {},
   "outputs": [],
   "source": [
    "clf = setup(data=nba, target='Pos', session_id=123, silent=True, verbose=False)"
   ]
  },
  {
   "cell_type": "code",
   "execution_count": null,
   "id": "5715fb2f",
   "metadata": {},
   "outputs": [],
   "source": [
    "best_model = compare_models()"
   ]
  },
  {
   "cell_type": "code",
   "execution_count": null,
   "id": "cefd1964",
   "metadata": {},
   "outputs": [],
   "source": [
    "save_model(best_model, 'nba_classifier_model')"
   ]
  }
 ],
 "metadata": {},
 "nbformat": 4,
 "nbformat_minor": 5
}
