{
 "cells": [
  {
   "cell_type": "markdown",
   "id": "efd86346",
   "metadata": {},
   "source": [
    "# Лабораторна робота №1\n",
    "\n",
    "**Мета:** Побудова моделі класифікації для прогнозування шансу гравця залишитись в NBA на основі статистичних даних за допомогою PyCaret."
   ]
  },
  {
   "cell_type": "markdown",
   "id": "97754538",
   "metadata": {},
   "source": [
    "### 1. Імпорт необхідних бібліотек"
   ]
  },
  {
   "cell_type": "code",
   "execution_count": null,
   "id": "0a9d1169",
   "metadata": {},
   "outputs": [],
   "source": [
    "from pycaret.classification import *\n",
    "from pycaret.datasets import get_data\n",
    "import pandas as pd"
   ]
  },
  {
   "cell_type": "markdown",
   "id": "4acab442",
   "metadata": {},
   "source": [
    "### 2. Завантаження датасету"
   ]
  },
  {
   "cell_type": "code",
   "execution_count": null,
   "id": "377359a9",
   "metadata": {},
   "outputs": [],
   "source": [
    "nba = get_data('nba')\n",
    "nba.dropna(inplace=True)\n",
    "nba.head()"
   ]
  },
  {
   "cell_type": "markdown",
   "id": "c00b2dd5",
   "metadata": {},
   "source": [
    "### 3. Ініціалізація середовища"
   ]
  },
  {
   "cell_type": "code",
   "execution_count": null,
   "id": "cc90e9b2",
   "metadata": {},
   "outputs": [],
   "source": [
    "clf = setup(data=nba, target='TARGET_5Yrs', session_id=123, verbose=False)"
   ]
  },
  {
   "cell_type": "markdown",
   "id": "0272e17d",
   "metadata": {},
   "source": [
    "### 4. Порівняння моделей"
   ]
  },
  {
   "cell_type": "code",
   "execution_count": null,
   "id": "806c55f4",
   "metadata": {},
   "outputs": [],
   "source": [
    "best_model = compare_models()"
   ]
  },
  {
   "cell_type": "markdown",
   "id": "d5968d56",
   "metadata": {},
   "source": [
    "### 5. Оцінка моделі"
   ]
  },
  {
   "cell_type": "code",
   "execution_count": null,
   "id": "2317db38",
   "metadata": {},
   "outputs": [],
   "source": [
    "evaluate_model(best_model)"
   ]
  },
  {
   "cell_type": "markdown",
   "id": "504dea8d",
   "metadata": {},
   "source": [
    "### 6. Прогнозування на тестовому наборі"
   ]
  },
  {
   "cell_type": "code",
   "execution_count": null,
   "id": "8e9ff3c2",
   "metadata": {},
   "outputs": [],
   "source": [
    "predictions = predict_model(best_model)\n",
    "predictions.head()"
   ]
  },
  {
   "cell_type": "markdown",
   "id": "17aa42ad",
   "metadata": {},
   "source": [
    "### 7. Збереження моделі"
   ]
  },
  {
   "cell_type": "code",
   "execution_count": null,
   "id": "15ca2953",
   "metadata": {},
   "outputs": [],
   "source": [
    "save_model(best_model, 'nba_classifier_model')"
   ]
  },
  {
   "cell_type": "markdown",
   "id": "21eb8ce1",
   "metadata": {},
   "source": [
    "### Висновок\n",
    "Модель класифікації була успішно побудована, протестована та збережена для подальшого використання."
   ]
  }
 ],
 "metadata": {},
 "nbformat": 4,
 "nbformat_minor": 5
}
